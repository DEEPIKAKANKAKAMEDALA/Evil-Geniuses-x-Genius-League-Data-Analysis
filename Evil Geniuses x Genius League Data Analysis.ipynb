{
 "cells": [
  {
   "cell_type": "code",
   "execution_count": 1,
   "id": "e342289d",
   "metadata": {},
   "outputs": [],
   "source": [
    "# importing libraries\n",
    "import pandas as pd\n",
    "import numpy as np\n",
    "import matplotlib.pyplot as plt\n",
    "import seaborn as sns\n",
    "%matplotlib inline"
   ]
  },
  {
   "cell_type": "code",
   "execution_count": 2,
   "id": "c5d72d19",
   "metadata": {},
   "outputs": [],
   "source": [
    "#Reading the excel data using pandas\n",
    "df=pd.read_excel('social_data.xlsx')"
   ]
  },
  {
   "cell_type": "code",
   "execution_count": 3,
   "id": "62bec4bd",
   "metadata": {},
   "outputs": [
    {
     "data": {
      "text/html": [
       "<div>\n",
       "<style scoped>\n",
       "    .dataframe tbody tr th:only-of-type {\n",
       "        vertical-align: middle;\n",
       "    }\n",
       "\n",
       "    .dataframe tbody tr th {\n",
       "        vertical-align: top;\n",
       "    }\n",
       "\n",
       "    .dataframe thead th {\n",
       "        text-align: right;\n",
       "    }\n",
       "</style>\n",
       "<table border=\"1\" class=\"dataframe\">\n",
       "  <thead>\n",
       "    <tr style=\"text-align: right;\">\n",
       "      <th></th>\n",
       "      <th>Published Date</th>\n",
       "      <th>Account</th>\n",
       "      <th>Account Type</th>\n",
       "      <th>Campaign Name</th>\n",
       "      <th>Total Impressions</th>\n",
       "      <th>Total Engagements</th>\n",
       "      <th>Media Type</th>\n",
       "    </tr>\n",
       "  </thead>\n",
       "  <tbody>\n",
       "    <tr>\n",
       "      <th>0</th>\n",
       "      <td>2023-03-31 19:55:43.192</td>\n",
       "      <td>CSGO</td>\n",
       "      <td>TWITTER</td>\n",
       "      <td>N/A</td>\n",
       "      <td>0</td>\n",
       "      <td>0</td>\n",
       "      <td>Text</td>\n",
       "    </tr>\n",
       "    <tr>\n",
       "      <th>1</th>\n",
       "      <td>2023-03-31 19:49:35.243</td>\n",
       "      <td>CSGO</td>\n",
       "      <td>TWITTER</td>\n",
       "      <td>N/A</td>\n",
       "      <td>0</td>\n",
       "      <td>0</td>\n",
       "      <td>Text</td>\n",
       "    </tr>\n",
       "    <tr>\n",
       "      <th>2</th>\n",
       "      <td>2023-03-31 19:49:33.535</td>\n",
       "      <td>CSGO</td>\n",
       "      <td>TWITTER</td>\n",
       "      <td>N/A</td>\n",
       "      <td>0</td>\n",
       "      <td>0</td>\n",
       "      <td>Text</td>\n",
       "    </tr>\n",
       "    <tr>\n",
       "      <th>3</th>\n",
       "      <td>2023-03-31 19:49:31.583</td>\n",
       "      <td>CSGO</td>\n",
       "      <td>TWITTER</td>\n",
       "      <td>N/A</td>\n",
       "      <td>0</td>\n",
       "      <td>0</td>\n",
       "      <td>Text</td>\n",
       "    </tr>\n",
       "    <tr>\n",
       "      <th>4</th>\n",
       "      <td>2023-03-31 19:43:42.590</td>\n",
       "      <td>CSGO</td>\n",
       "      <td>TWITTER</td>\n",
       "      <td>Community Engagement</td>\n",
       "      <td>9517</td>\n",
       "      <td>1215</td>\n",
       "      <td>Video</td>\n",
       "    </tr>\n",
       "    <tr>\n",
       "      <th>...</th>\n",
       "      <td>...</td>\n",
       "      <td>...</td>\n",
       "      <td>...</td>\n",
       "      <td>...</td>\n",
       "      <td>...</td>\n",
       "      <td>...</td>\n",
       "      <td>...</td>\n",
       "    </tr>\n",
       "    <tr>\n",
       "      <th>3474</th>\n",
       "      <td>2023-01-03 10:35:12.652</td>\n",
       "      <td>CSGO</td>\n",
       "      <td>TWITTER</td>\n",
       "      <td>N/A</td>\n",
       "      <td>0</td>\n",
       "      <td>0</td>\n",
       "      <td>Link</td>\n",
       "    </tr>\n",
       "    <tr>\n",
       "      <th>3475</th>\n",
       "      <td>2023-01-03 10:34:55.487</td>\n",
       "      <td>CSGO</td>\n",
       "      <td>TWITTER</td>\n",
       "      <td>N/A</td>\n",
       "      <td>0</td>\n",
       "      <td>0</td>\n",
       "      <td>Link</td>\n",
       "    </tr>\n",
       "    <tr>\n",
       "      <th>3476</th>\n",
       "      <td>2023-01-03 10:34:38.631</td>\n",
       "      <td>CSGO</td>\n",
       "      <td>TWITTER</td>\n",
       "      <td>N/A</td>\n",
       "      <td>0</td>\n",
       "      <td>0</td>\n",
       "      <td>Link</td>\n",
       "    </tr>\n",
       "    <tr>\n",
       "      <th>3477</th>\n",
       "      <td>2023-01-03 10:34:03.438</td>\n",
       "      <td>CSGO</td>\n",
       "      <td>TWITTER</td>\n",
       "      <td>N/A</td>\n",
       "      <td>2116</td>\n",
       "      <td>42</td>\n",
       "      <td>Text</td>\n",
       "    </tr>\n",
       "    <tr>\n",
       "      <th>3478</th>\n",
       "      <td>2023-01-01 14:59:04.000</td>\n",
       "      <td>General</td>\n",
       "      <td>FBPAGE</td>\n",
       "      <td>N/A</td>\n",
       "      <td>0</td>\n",
       "      <td>0</td>\n",
       "      <td>Photo</td>\n",
       "    </tr>\n",
       "  </tbody>\n",
       "</table>\n",
       "<p>3479 rows × 7 columns</p>\n",
       "</div>"
      ],
      "text/plain": [
       "              Published Date   Account Account Type          Campaign Name  \\\n",
       "0    2023-03-31 19:55:43.192      CSGO      TWITTER                   N/A    \n",
       "1    2023-03-31 19:49:35.243      CSGO      TWITTER                   N/A    \n",
       "2    2023-03-31 19:49:33.535      CSGO      TWITTER                   N/A    \n",
       "3    2023-03-31 19:49:31.583      CSGO      TWITTER                   N/A    \n",
       "4    2023-03-31 19:43:42.590      CSGO      TWITTER  Community Engagement    \n",
       "...                      ...       ...          ...                    ...   \n",
       "3474 2023-01-03 10:35:12.652      CSGO      TWITTER                   N/A    \n",
       "3475 2023-01-03 10:34:55.487      CSGO      TWITTER                   N/A    \n",
       "3476 2023-01-03 10:34:38.631      CSGO      TWITTER                   N/A    \n",
       "3477 2023-01-03 10:34:03.438      CSGO      TWITTER                   N/A    \n",
       "3478 2023-01-01 14:59:04.000  General        FBPAGE                   N/A    \n",
       "\n",
       "      Total Impressions  Total Engagements Media Type  \n",
       "0                     0                  0       Text  \n",
       "1                     0                  0       Text  \n",
       "2                     0                  0       Text  \n",
       "3                     0                  0       Text  \n",
       "4                  9517               1215      Video  \n",
       "...                 ...                ...        ...  \n",
       "3474                  0                  0       Link  \n",
       "3475                  0                  0       Link  \n",
       "3476                  0                  0       Link  \n",
       "3477               2116                 42       Text  \n",
       "3478                  0                  0      Photo  \n",
       "\n",
       "[3479 rows x 7 columns]"
      ]
     },
     "execution_count": 3,
     "metadata": {},
     "output_type": "execute_result"
    }
   ],
   "source": [
    "#displaying the data \n",
    "df"
   ]
  },
  {
   "cell_type": "code",
   "execution_count": 4,
   "id": "a3e01146",
   "metadata": {},
   "outputs": [],
   "source": [
    "# renaming the column names for ease of use \n",
    "df.rename(columns = {'Published Date':'Published_Date', 'Account Type':'Account_Type',\n",
    "                     'Campaign Name':'Campaign_Name','Total Impressions':'Total_Impressions',\n",
    "                    'Total Engagements':'Total_Engagements','Media Type':'Media_Type'}, inplace = True)"
   ]
  },
  {
   "cell_type": "code",
   "execution_count": 5,
   "id": "ff365040",
   "metadata": {},
   "outputs": [
    {
     "data": {
      "text/plain": [
       "Index(['Published_Date', 'Account', 'Account_Type', 'Campaign_Name',\n",
       "       'Total_Impressions', 'Total_Engagements', 'Media_Type'],\n",
       "      dtype='object')"
      ]
     },
     "execution_count": 5,
     "metadata": {},
     "output_type": "execute_result"
    }
   ],
   "source": [
    "df.columns"
   ]
  },
  {
   "cell_type": "code",
   "execution_count": 6,
   "id": "fb451c18",
   "metadata": {},
   "outputs": [
    {
     "name": "stdout",
     "output_type": "stream",
     "text": [
      "<class 'pandas.core.frame.DataFrame'>\n",
      "RangeIndex: 3479 entries, 0 to 3478\n",
      "Data columns (total 7 columns):\n",
      " #   Column             Non-Null Count  Dtype         \n",
      "---  ------             --------------  -----         \n",
      " 0   Published_Date     3479 non-null   datetime64[ns]\n",
      " 1   Account            3479 non-null   object        \n",
      " 2   Account_Type       3479 non-null   object        \n",
      " 3   Campaign_Name      3479 non-null   object        \n",
      " 4   Total_Impressions  3479 non-null   int64         \n",
      " 5   Total_Engagements  3479 non-null   int64         \n",
      " 6   Media_Type         3479 non-null   object        \n",
      "dtypes: datetime64[ns](1), int64(2), object(4)\n",
      "memory usage: 190.4+ KB\n"
     ]
    }
   ],
   "source": [
    "df.info()"
   ]
  },
  {
   "cell_type": "code",
   "execution_count": 7,
   "id": "a2758e2e",
   "metadata": {},
   "outputs": [
    {
     "data": {
      "text/html": [
       "<div>\n",
       "<style scoped>\n",
       "    .dataframe tbody tr th:only-of-type {\n",
       "        vertical-align: middle;\n",
       "    }\n",
       "\n",
       "    .dataframe tbody tr th {\n",
       "        vertical-align: top;\n",
       "    }\n",
       "\n",
       "    .dataframe thead th {\n",
       "        text-align: right;\n",
       "    }\n",
       "</style>\n",
       "<table border=\"1\" class=\"dataframe\">\n",
       "  <thead>\n",
       "    <tr style=\"text-align: right;\">\n",
       "      <th></th>\n",
       "      <th>Total_Impressions</th>\n",
       "      <th>Total_Engagements</th>\n",
       "    </tr>\n",
       "  </thead>\n",
       "  <tbody>\n",
       "    <tr>\n",
       "      <th>count</th>\n",
       "      <td>3479.000000</td>\n",
       "      <td>3479.000000</td>\n",
       "    </tr>\n",
       "    <tr>\n",
       "      <th>mean</th>\n",
       "      <td>10972.453579</td>\n",
       "      <td>947.390629</td>\n",
       "    </tr>\n",
       "    <tr>\n",
       "      <th>std</th>\n",
       "      <td>29577.108063</td>\n",
       "      <td>3468.628038</td>\n",
       "    </tr>\n",
       "    <tr>\n",
       "      <th>min</th>\n",
       "      <td>0.000000</td>\n",
       "      <td>0.000000</td>\n",
       "    </tr>\n",
       "    <tr>\n",
       "      <th>25%</th>\n",
       "      <td>167.000000</td>\n",
       "      <td>0.000000</td>\n",
       "    </tr>\n",
       "    <tr>\n",
       "      <th>50%</th>\n",
       "      <td>1884.000000</td>\n",
       "      <td>39.000000</td>\n",
       "    </tr>\n",
       "    <tr>\n",
       "      <th>75%</th>\n",
       "      <td>12467.000000</td>\n",
       "      <td>276.500000</td>\n",
       "    </tr>\n",
       "    <tr>\n",
       "      <th>max</th>\n",
       "      <td>753227.000000</td>\n",
       "      <td>95062.000000</td>\n",
       "    </tr>\n",
       "  </tbody>\n",
       "</table>\n",
       "</div>"
      ],
      "text/plain": [
       "       Total_Impressions  Total_Engagements\n",
       "count        3479.000000        3479.000000\n",
       "mean        10972.453579         947.390629\n",
       "std         29577.108063        3468.628038\n",
       "min             0.000000           0.000000\n",
       "25%           167.000000           0.000000\n",
       "50%          1884.000000          39.000000\n",
       "75%         12467.000000         276.500000\n",
       "max        753227.000000       95062.000000"
      ]
     },
     "execution_count": 7,
     "metadata": {},
     "output_type": "execute_result"
    }
   ],
   "source": [
    "df.describe()"
   ]
  },
  {
   "cell_type": "code",
   "execution_count": 8,
   "id": "1d2fad1b",
   "metadata": {},
   "outputs": [
    {
     "data": {
      "text/plain": [
       "Published_Date       0\n",
       "Account              0\n",
       "Account_Type         0\n",
       "Campaign_Name        0\n",
       "Total_Impressions    0\n",
       "Total_Engagements    0\n",
       "Media_Type           0\n",
       "dtype: int64"
      ]
     },
     "execution_count": 8,
     "metadata": {},
     "output_type": "execute_result"
    }
   ],
   "source": [
    "#checking if there are any missing values \n",
    "df.isnull().sum()\n",
    "#There  are no NAN values in the data "
   ]
  },
  {
   "cell_type": "code",
   "execution_count": 9,
   "id": "020c272b",
   "metadata": {},
   "outputs": [
    {
     "data": {
      "text/plain": [
       "TWITTER             1951\n",
       "INSTAGRAM            588\n",
       "FBPAGE               585\n",
       "YOUTUBE              220\n",
       "TIKTOK_BUSINESS      113\n",
       "LINKEDIN_COMPANY      22\n",
       "Name: Account_Type, dtype: int64"
      ]
     },
     "execution_count": 9,
     "metadata": {},
     "output_type": "execute_result"
    }
   ],
   "source": [
    "# to know the frequency count of the Account Type\n",
    "df.Account_Type.value_counts()"
   ]
  },
  {
   "cell_type": "code",
   "execution_count": 10,
   "id": "e003bc0c",
   "metadata": {},
   "outputs": [
    {
     "data": {
      "text/plain": [
       "Index(['TWITTER', 'INSTAGRAM', 'FBPAGE', 'YOUTUBE', 'TIKTOK_BUSINESS',\n",
       "       'LINKEDIN_COMPANY'],\n",
       "      dtype='object')"
      ]
     },
     "execution_count": 10,
     "metadata": {},
     "output_type": "execute_result"
    }
   ],
   "source": [
    "# to display the index of the account types\n",
    "AccountType_names=df.Account_Type.value_counts().index\n",
    "AccountType_names"
   ]
  },
  {
   "cell_type": "code",
   "execution_count": 11,
   "id": "eacb5a69",
   "metadata": {},
   "outputs": [
    {
     "data": {
      "text/plain": [
       "array([1951,  588,  585,  220,  113,   22])"
      ]
     },
     "execution_count": 11,
     "metadata": {},
     "output_type": "execute_result"
    }
   ],
   "source": [
    "df_Account_type=df.Account_Type.value_counts().values\n",
    "df_Account_type"
   ]
  },
  {
   "cell_type": "code",
   "execution_count": 12,
   "id": "eaef0310",
   "metadata": {},
   "outputs": [
    {
     "data": {
      "text/plain": [
       "([<matplotlib.patches.Wedge at 0x7f8c0a42a130>,\n",
       "  <matplotlib.patches.Wedge at 0x7f8c0a42a7c0>,\n",
       "  <matplotlib.patches.Wedge at 0x7f8c0a42ae50>,\n",
       "  <matplotlib.patches.Wedge at 0x7f8c0a3ff520>,\n",
       "  <matplotlib.patches.Wedge at 0x7f8c0a3ffbb0>,\n",
       "  <matplotlib.patches.Wedge at 0x7f8c0a3b1280>],\n",
       " [Text(-0.2088118289660595, 1.0799988981864053, 'TWITTER'),\n",
       "  Text(-0.6725561313203842, -0.8704414111376816, 'INSTAGRAM'),\n",
       "  Text(0.42976871339525613, -1.0125704187791515, 'FBPAGE'),\n",
       "  Text(0.9940628403072947, -0.4709979506539218, 'YOUTUBE'),\n",
       "  Text(1.0889636593023095, -0.15542891854131788, 'TIKTOK_BUSINESS'),\n",
       "  Text(1.099782938350537, -0.021851510544101005, 'LINKEDIN_COMPANY')],\n",
       " [Text(-0.11389736125421425, 0.5890903081016755, '56.08%'),\n",
       "  Text(-0.36684879890202765, -0.4747862242569172, '16.90%'),\n",
       "  Text(0.23441929821559424, -0.5523111375159008, '16.82%'),\n",
       "  Text(0.5422160947130698, -0.25690797308395735, '6.32%'),\n",
       "  Text(0.5939801778012597, -0.0847794101134461, '3.25%'),\n",
       "  Text(0.5998816027366565, -0.011919005751327821, '0.63%')])"
      ]
     },
     "execution_count": 12,
     "metadata": {},
     "output_type": "execute_result"
    },
    {
     "data": {
      "image/png": "[encoded data removed]",
      "text/plain": [
       "<Figure size 640x480 with 1 Axes>"
      ]
     },
     "metadata": {},
     "output_type": "display_data"
    }
   ],
   "source": [
    "# to display it in piechart with percenatage \n",
    "plt.pie(df_Account_type[:],labels=AccountType_names[:],autopct='%1.2f%%')"
   ]
  },
  {
   "cell_type": "markdown",
   "id": "c6f826ab",
   "metadata": {},
   "source": [
    "#1. What is the typical engagement rate we can expect? What’s the likelihood that we can achieve a 15% engagement rate?"
   ]
  },
  {
   "cell_type": "code",
   "execution_count": 13,
   "id": "70373596",
   "metadata": {},
   "outputs": [
    {
     "name": "stdout",
     "output_type": "stream",
     "text": [
      "Average Engagement Rate: 40.49%\n"
     ]
    }
   ],
   "source": [
    "# Inorder to answer this question we should first calculate the typical enagament rate \n",
    "# (Total_engagements / Total_Impressions) *100 gives us the total engagement  rate\n",
    "df['Engagement_Rate'] = (df['Total_Engagements'] / df['Total_Impressions']) * 100\n",
    "# need to calculate avg to get the typical engagement rate \n",
    "average_engagement_rate = df['Engagement_Rate'].mean()\n",
    "print(f\"Average Engagement Rate: {average_engagement_rate:.2f}%\")"
   ]
  },
  {
   "cell_type": "code",
   "execution_count": 14,
   "id": "be5ff315",
   "metadata": {},
   "outputs": [
    {
     "name": "stdout",
     "output_type": "stream",
     "text": [
      "Difference: -25.49%\n"
     ]
    }
   ],
   "source": [
    "# Inorder to address the second part of the question which is what is the likelihood that we can achieve a 15% engagement rate \n",
    "# we need to know the Z value .\n",
    "desired_engagement_rate = 15\n",
    "difference = desired_engagement_rate - average_engagement_rate\n",
    "print(f\"Difference: {difference:.2f}%\")"
   ]
  },
  {
   "cell_type": "code",
   "execution_count": 15,
   "id": "b2d8ede4",
   "metadata": {},
   "outputs": [
    {
     "data": {
      "text/plain": [
       "1797.5531279668996"
      ]
     },
     "execution_count": 15,
     "metadata": {},
     "output_type": "execute_result"
    }
   ],
   "source": [
    "# we are calculating the standard deviation\n",
    "engagement_rates_std = df['Engagement_Rate'].std()\n",
    "engagement_rates_std"
   ]
  },
  {
   "cell_type": "code",
   "execution_count": 16,
   "id": "b564a4f0",
   "metadata": {},
   "outputs": [
    {
     "data": {
      "text/plain": [
       "-0.014181846068735602"
      ]
     },
     "execution_count": 16,
     "metadata": {},
     "output_type": "execute_result"
    }
   ],
   "source": [
    "# Now difference / engagement_rates_std gives us the Z value \n",
    "Z= difference/engagement_rates_std\n",
    "Z"
   ]
  },
  {
   "cell_type": "code",
   "execution_count": 17,
   "id": "07a996f1",
   "metadata": {},
   "outputs": [
    {
     "name": "stdout",
     "output_type": "stream",
     "text": [
      "Probability: 0.4943\n"
     ]
    }
   ],
   "source": [
    "# Now we got the Z value as -0.0141 we can check in the table to get the probabilty or we can use scipy.stats library inorder to get the probabilty as shown below\n",
    "from scipy.stats import norm\n",
    "\n",
    "z_score = -0.0141818\n",
    "\n",
    "# Calculate the probability associated with the given Z-score\n",
    "probability = norm.cdf(z_score)\n",
    "\n",
    "print(f\"Probability: {probability:.4f}\")"
   ]
  },
  {
   "cell_type": "markdown",
   "id": "e3e7dff6",
   "metadata": {},
   "source": [
    "# The typical enagagement rate that we can expect is 40.49%  We have 49.43 Probability or likelihood  to achieve a 15 percent or above engagement rate "
   ]
  },
  {
   "cell_type": "markdown",
   "id": "dba997eb",
   "metadata": {},
   "source": [
    "#2. Does day of the week and time of posting affect engagement rates?"
   ]
  },
  {
   "cell_type": "code",
   "execution_count": 18,
   "id": "32e18001",
   "metadata": {},
   "outputs": [],
   "source": [
    "# Converting the 'Published Date' column to datetime format\n",
    "df['Published_Date'] = pd.to_datetime(df['Published_Date'])\n",
    "df['Day of Week'] = df['Published_Date'].dt.dayofweek\n",
    "df['Hour of Day'] = df['Published_Date'].dt.hour"
   ]
  },
  {
   "cell_type": "code",
   "execution_count": 19,
   "id": "b804ff41",
   "metadata": {},
   "outputs": [
    {
     "data": {
      "text/plain": [
       "array([4, 3, 2, 1, 0, 6, 5])"
      ]
     },
     "execution_count": 19,
     "metadata": {},
     "output_type": "execute_result"
    }
   ],
   "source": [
    "df['Day of Week'].unique()"
   ]
  },
  {
   "cell_type": "code",
   "execution_count": 20,
   "id": "fd86e249",
   "metadata": {},
   "outputs": [],
   "source": [
    "# Calculating the average engagement rate for each day of the week\n",
    "avg_engagement_by_day = df.groupby('Day of Week')['Engagement_Rate'].mean()\n",
    "# Calculating the average engagement rate for each hour of the day\n",
    "avg_engagement_by_hour = df.groupby('Hour of Day')['Engagement_Rate'].mean()"
   ]
  },
  {
   "cell_type": "code",
   "execution_count": 21,
   "id": "592c2813",
   "metadata": {},
   "outputs": [
    {
     "data": {
      "image/png": "[encoded data removed]",
      "text/plain": [
       "<Figure size 1000x600 with 1 Axes>"
      ]
     },
     "metadata": {},
     "output_type": "display_data"
    }
   ],
   "source": [
    "# Plot the average engagement rates by day of the week\n",
    "plt.figure(figsize=(10, 6))\n",
    "plt.plot(avg_engagement_by_day.index, avg_engagement_by_day.values)\n",
    "plt.xlabel('Day of Week')\n",
    "plt.ylabel('Average Engagement Rate')\n",
    "plt.title('Average Engagement Rate by Day of Week')\n",
    "plt.xticks(range(7), ['Mon', 'Tue', 'Wed', 'Thu', 'Fri', 'Sat', 'Sun'])\n",
    "plt.show()"
   ]
  },
  {
   "cell_type": "markdown",
   "id": "e79cda8c",
   "metadata": {},
   "source": [
    "# From the graph above we can say that friday has the high avg engagement rate compared to anyother day of the week "
   ]
  },
  {
   "cell_type": "code",
   "execution_count": 22,
   "id": "d8befca0",
   "metadata": {},
   "outputs": [
    {
     "data": {
      "image/png": "[encoded data removed]",
      "text/plain": [
       "<Figure size 1000x600 with 1 Axes>"
      ]
     },
     "metadata": {},
     "output_type": "display_data"
    }
   ],
   "source": [
    "# Plot the average engagement rates by hour of the day\n",
    "plt.figure(figsize=(10, 6))\n",
    "plt.plot(avg_engagement_by_hour.index, avg_engagement_by_hour.values)\n",
    "plt.xlabel('Hour of Day')\n",
    "plt.ylabel('Average Engagement Rate')\n",
    "plt.title('Average Engagement Rate by Hour of Day')\n",
    "plt.xticks(range(24))\n",
    "plt.show()"
   ]
  },
  {
   "cell_type": "markdown",
   "id": "4ca94239",
   "metadata": {},
   "source": [
    "# From the graph above we can say that 12th hour of the day has the high avg engagement rate compared to any hour of the day"
   ]
  },
  {
   "cell_type": "markdown",
   "id": "a7fa2e03",
   "metadata": {},
   "source": [
    "#3.How are our game titles doing in terms of social performance? Is there a specific game we should focus more on or less?"
   ]
  },
  {
   "cell_type": "code",
   "execution_count": 23,
   "id": "386719a9",
   "metadata": {},
   "outputs": [
    {
     "data": {
      "text/plain": [
       "array(['CSGO', 'General ', 'DOTA2', 'Content Creators', 'Valorant',\n",
       "       'General'], dtype=object)"
      ]
     },
     "execution_count": 23,
     "metadata": {},
     "output_type": "execute_result"
    }
   ],
   "source": [
    "df['Account'].unique()"
   ]
  },
  {
   "cell_type": "code",
   "execution_count": 24,
   "id": "3241869a",
   "metadata": {},
   "outputs": [
    {
     "data": {
      "text/html": [
       "<div>\n",
       "<style scoped>\n",
       "    .dataframe tbody tr th:only-of-type {\n",
       "        vertical-align: middle;\n",
       "    }\n",
       "\n",
       "    .dataframe tbody tr th {\n",
       "        vertical-align: top;\n",
       "    }\n",
       "\n",
       "    .dataframe thead th {\n",
       "        text-align: right;\n",
       "    }\n",
       "</style>\n",
       "<table border=\"1\" class=\"dataframe\">\n",
       "  <thead>\n",
       "    <tr style=\"text-align: right;\">\n",
       "      <th></th>\n",
       "      <th>Total_Impressions</th>\n",
       "      <th>Total_Engagements</th>\n",
       "      <th>Engagement_Rate</th>\n",
       "      <th>Day of Week</th>\n",
       "      <th>Hour of Day</th>\n",
       "    </tr>\n",
       "    <tr>\n",
       "      <th>Account</th>\n",
       "      <th></th>\n",
       "      <th></th>\n",
       "      <th></th>\n",
       "      <th></th>\n",
       "      <th></th>\n",
       "    </tr>\n",
       "  </thead>\n",
       "  <tbody>\n",
       "    <tr>\n",
       "      <th>CSGO</th>\n",
       "      <td>8570.066667</td>\n",
       "      <td>341.985185</td>\n",
       "      <td>4.132564</td>\n",
       "      <td>2.637037</td>\n",
       "      <td>13.103704</td>\n",
       "    </tr>\n",
       "    <tr>\n",
       "      <th>Content Creators</th>\n",
       "      <td>852.566038</td>\n",
       "      <td>26.169811</td>\n",
       "      <td>6.171672</td>\n",
       "      <td>2.603774</td>\n",
       "      <td>12.924528</td>\n",
       "    </tr>\n",
       "    <tr>\n",
       "      <th>DOTA2</th>\n",
       "      <td>2315.474471</td>\n",
       "      <td>154.408468</td>\n",
       "      <td>4.944886</td>\n",
       "      <td>3.148194</td>\n",
       "      <td>12.300125</td>\n",
       "    </tr>\n",
       "    <tr>\n",
       "      <th>General</th>\n",
       "      <td>1945.500000</td>\n",
       "      <td>38.590909</td>\n",
       "      <td>1.795018</td>\n",
       "      <td>2.363636</td>\n",
       "      <td>11.545455</td>\n",
       "    </tr>\n",
       "    <tr>\n",
       "      <th>General</th>\n",
       "      <td>14922.481726</td>\n",
       "      <td>1354.680317</td>\n",
       "      <td>60.663931</td>\n",
       "      <td>3.044474</td>\n",
       "      <td>12.425363</td>\n",
       "    </tr>\n",
       "    <tr>\n",
       "      <th>Valorant</th>\n",
       "      <td>382.983333</td>\n",
       "      <td>15.516667</td>\n",
       "      <td>5.337990</td>\n",
       "      <td>2.800000</td>\n",
       "      <td>11.516667</td>\n",
       "    </tr>\n",
       "  </tbody>\n",
       "</table>\n",
       "</div>"
      ],
      "text/plain": [
       "                  Total_Impressions  Total_Engagements  Engagement_Rate  \\\n",
       "Account                                                                   \n",
       "CSGO                    8570.066667         341.985185         4.132564   \n",
       "Content Creators         852.566038          26.169811         6.171672   \n",
       "DOTA2                   2315.474471         154.408468         4.944886   \n",
       "General                 1945.500000          38.590909         1.795018   \n",
       "General                14922.481726        1354.680317        60.663931   \n",
       "Valorant                 382.983333          15.516667         5.337990   \n",
       "\n",
       "                  Day of Week  Hour of Day  \n",
       "Account                                     \n",
       "CSGO                 2.637037    13.103704  \n",
       "Content Creators     2.603774    12.924528  \n",
       "DOTA2                3.148194    12.300125  \n",
       "General              2.363636    11.545455  \n",
       "General              3.044474    12.425363  \n",
       "Valorant             2.800000    11.516667  "
      ]
     },
     "execution_count": 24,
     "metadata": {},
     "output_type": "execute_result"
    }
   ],
   "source": [
    "# Grouping the data by game titles (Account column) and calculate the average social performance metrics\n",
    "game_performance = df.groupby('Account').mean()\n",
    "game_performance"
   ]
  },
  {
   "cell_type": "code",
   "execution_count": 25,
   "id": "a8498bdd",
   "metadata": {},
   "outputs": [
    {
     "name": "stdout",
     "output_type": "stream",
     "text": [
      "                  Engagement_Rate  Total_Impressions\n",
      "Account                                             \n",
      "General                 60.663931       14922.481726\n",
      "Content Creators         6.171672         852.566038\n",
      "Valorant                 5.337990         382.983333\n",
      "DOTA2                    4.944886        2315.474471\n",
      "CSGO                     4.132564        8570.066667\n",
      "General                  1.795018        1945.500000\n"
     ]
    }
   ],
   "source": [
    "# Sorting the games based on social performance metrics (e.g., engagement rate, impressions)\n",
    "sorted_games = game_performance.sort_values(by='Engagement_Rate', ascending=False)\n",
    "# Printing the sorted games and their respective social performance metrics\n",
    "print(sorted_games[['Engagement_Rate', 'Total_Impressions']])"
   ]
  },
  {
   "cell_type": "markdown",
   "id": "caee02c0",
   "metadata": {},
   "source": [
    "# We see that mostly General has high engagement_rate and high total_impresssions . Inorder to get more engagement rate we can assign names to the General "
   ]
  },
  {
   "cell_type": "markdown",
   "id": "1e9202b1",
   "metadata": {},
   "source": [
    "#4.What media type performs the best?"
   ]
  },
  {
   "cell_type": "code",
   "execution_count": 26,
   "id": "04059ad6",
   "metadata": {},
   "outputs": [
    {
     "data": {
      "text/html": [
       "<div>\n",
       "<style scoped>\n",
       "    .dataframe tbody tr th:only-of-type {\n",
       "        vertical-align: middle;\n",
       "    }\n",
       "\n",
       "    .dataframe tbody tr th {\n",
       "        vertical-align: top;\n",
       "    }\n",
       "\n",
       "    .dataframe thead th {\n",
       "        text-align: right;\n",
       "    }\n",
       "</style>\n",
       "<table border=\"1\" class=\"dataframe\">\n",
       "  <thead>\n",
       "    <tr style=\"text-align: right;\">\n",
       "      <th></th>\n",
       "      <th>Total_Impressions</th>\n",
       "      <th>Total_Engagements</th>\n",
       "      <th>Engagement_Rate</th>\n",
       "      <th>Day of Week</th>\n",
       "      <th>Hour of Day</th>\n",
       "    </tr>\n",
       "    <tr>\n",
       "      <th>Media_Type</th>\n",
       "      <th></th>\n",
       "      <th></th>\n",
       "      <th></th>\n",
       "      <th></th>\n",
       "      <th></th>\n",
       "    </tr>\n",
       "  </thead>\n",
       "  <tbody>\n",
       "    <tr>\n",
       "      <th>Album</th>\n",
       "      <td>5.000000</td>\n",
       "      <td>2.000000</td>\n",
       "      <td>40.000000</td>\n",
       "      <td>3.000000</td>\n",
       "      <td>6.000000</td>\n",
       "    </tr>\n",
       "    <tr>\n",
       "      <th>Carousel</th>\n",
       "      <td>17854.333333</td>\n",
       "      <td>726.777778</td>\n",
       "      <td>3.784294</td>\n",
       "      <td>2.777778</td>\n",
       "      <td>11.555556</td>\n",
       "    </tr>\n",
       "    <tr>\n",
       "      <th>Link</th>\n",
       "      <td>2473.031915</td>\n",
       "      <td>24.010638</td>\n",
       "      <td>3.749983</td>\n",
       "      <td>2.648936</td>\n",
       "      <td>11.861702</td>\n",
       "    </tr>\n",
       "    <tr>\n",
       "      <th>Mixed</th>\n",
       "      <td>36996.800000</td>\n",
       "      <td>2732.800000</td>\n",
       "      <td>10.770357</td>\n",
       "      <td>3.200000</td>\n",
       "      <td>12.800000</td>\n",
       "    </tr>\n",
       "    <tr>\n",
       "      <th>Photo</th>\n",
       "      <td>16036.236242</td>\n",
       "      <td>1454.858389</td>\n",
       "      <td>83.121288</td>\n",
       "      <td>3.287248</td>\n",
       "      <td>12.551007</td>\n",
       "    </tr>\n",
       "    <tr>\n",
       "      <th>Text</th>\n",
       "      <td>3413.409890</td>\n",
       "      <td>270.672527</td>\n",
       "      <td>4.083904</td>\n",
       "      <td>2.878022</td>\n",
       "      <td>12.489011</td>\n",
       "    </tr>\n",
       "    <tr>\n",
       "      <th>Video</th>\n",
       "      <td>10956.373320</td>\n",
       "      <td>888.780765</td>\n",
       "      <td>5.351780</td>\n",
       "      <td>2.784902</td>\n",
       "      <td>12.295760</td>\n",
       "    </tr>\n",
       "  </tbody>\n",
       "</table>\n",
       "</div>"
      ],
      "text/plain": [
       "            Total_Impressions  Total_Engagements  Engagement_Rate  \\\n",
       "Media_Type                                                          \n",
       "Album                5.000000           2.000000        40.000000   \n",
       "Carousel         17854.333333         726.777778         3.784294   \n",
       "Link              2473.031915          24.010638         3.749983   \n",
       "Mixed            36996.800000        2732.800000        10.770357   \n",
       "Photo            16036.236242        1454.858389        83.121288   \n",
       "Text              3413.409890         270.672527         4.083904   \n",
       "Video            10956.373320         888.780765         5.351780   \n",
       "\n",
       "            Day of Week  Hour of Day  \n",
       "Media_Type                            \n",
       "Album          3.000000     6.000000  \n",
       "Carousel       2.777778    11.555556  \n",
       "Link           2.648936    11.861702  \n",
       "Mixed          3.200000    12.800000  \n",
       "Photo          3.287248    12.551007  \n",
       "Text           2.878022    12.489011  \n",
       "Video          2.784902    12.295760  "
      ]
     },
     "execution_count": 26,
     "metadata": {},
     "output_type": "execute_result"
    }
   ],
   "source": [
    "# Grouping the data by media type (Media Type column) and calculating the average social performance metrics\n",
    "media_performance = df.groupby('Media_Type').mean()\n",
    "media_performance"
   ]
  },
  {
   "cell_type": "code",
   "execution_count": 27,
   "id": "7fc58346",
   "metadata": {},
   "outputs": [
    {
     "data": {
      "text/html": [
       "<div>\n",
       "<style scoped>\n",
       "    .dataframe tbody tr th:only-of-type {\n",
       "        vertical-align: middle;\n",
       "    }\n",
       "\n",
       "    .dataframe tbody tr th {\n",
       "        vertical-align: top;\n",
       "    }\n",
       "\n",
       "    .dataframe thead th {\n",
       "        text-align: right;\n",
       "    }\n",
       "</style>\n",
       "<table border=\"1\" class=\"dataframe\">\n",
       "  <thead>\n",
       "    <tr style=\"text-align: right;\">\n",
       "      <th></th>\n",
       "      <th>Total_Impressions</th>\n",
       "      <th>Total_Engagements</th>\n",
       "      <th>Engagement_Rate</th>\n",
       "      <th>Day of Week</th>\n",
       "      <th>Hour of Day</th>\n",
       "    </tr>\n",
       "    <tr>\n",
       "      <th>Media_Type</th>\n",
       "      <th></th>\n",
       "      <th></th>\n",
       "      <th></th>\n",
       "      <th></th>\n",
       "      <th></th>\n",
       "    </tr>\n",
       "  </thead>\n",
       "  <tbody>\n",
       "    <tr>\n",
       "      <th>Photo</th>\n",
       "      <td>16036.236242</td>\n",
       "      <td>1454.858389</td>\n",
       "      <td>83.121288</td>\n",
       "      <td>3.287248</td>\n",
       "      <td>12.551007</td>\n",
       "    </tr>\n",
       "    <tr>\n",
       "      <th>Album</th>\n",
       "      <td>5.000000</td>\n",
       "      <td>2.000000</td>\n",
       "      <td>40.000000</td>\n",
       "      <td>3.000000</td>\n",
       "      <td>6.000000</td>\n",
       "    </tr>\n",
       "    <tr>\n",
       "      <th>Mixed</th>\n",
       "      <td>36996.800000</td>\n",
       "      <td>2732.800000</td>\n",
       "      <td>10.770357</td>\n",
       "      <td>3.200000</td>\n",
       "      <td>12.800000</td>\n",
       "    </tr>\n",
       "    <tr>\n",
       "      <th>Video</th>\n",
       "      <td>10956.373320</td>\n",
       "      <td>888.780765</td>\n",
       "      <td>5.351780</td>\n",
       "      <td>2.784902</td>\n",
       "      <td>12.295760</td>\n",
       "    </tr>\n",
       "    <tr>\n",
       "      <th>Text</th>\n",
       "      <td>3413.409890</td>\n",
       "      <td>270.672527</td>\n",
       "      <td>4.083904</td>\n",
       "      <td>2.878022</td>\n",
       "      <td>12.489011</td>\n",
       "    </tr>\n",
       "    <tr>\n",
       "      <th>Carousel</th>\n",
       "      <td>17854.333333</td>\n",
       "      <td>726.777778</td>\n",
       "      <td>3.784294</td>\n",
       "      <td>2.777778</td>\n",
       "      <td>11.555556</td>\n",
       "    </tr>\n",
       "    <tr>\n",
       "      <th>Link</th>\n",
       "      <td>2473.031915</td>\n",
       "      <td>24.010638</td>\n",
       "      <td>3.749983</td>\n",
       "      <td>2.648936</td>\n",
       "      <td>11.861702</td>\n",
       "    </tr>\n",
       "  </tbody>\n",
       "</table>\n",
       "</div>"
      ],
      "text/plain": [
       "            Total_Impressions  Total_Engagements  Engagement_Rate  \\\n",
       "Media_Type                                                          \n",
       "Photo            16036.236242        1454.858389        83.121288   \n",
       "Album                5.000000           2.000000        40.000000   \n",
       "Mixed            36996.800000        2732.800000        10.770357   \n",
       "Video            10956.373320         888.780765         5.351780   \n",
       "Text              3413.409890         270.672527         4.083904   \n",
       "Carousel         17854.333333         726.777778         3.784294   \n",
       "Link              2473.031915          24.010638         3.749983   \n",
       "\n",
       "            Day of Week  Hour of Day  \n",
       "Media_Type                            \n",
       "Photo          3.287248    12.551007  \n",
       "Album          3.000000     6.000000  \n",
       "Mixed          3.200000    12.800000  \n",
       "Video          2.784902    12.295760  \n",
       "Text           2.878022    12.489011  \n",
       "Carousel       2.777778    11.555556  \n",
       "Link           2.648936    11.861702  "
      ]
     },
     "execution_count": 27,
     "metadata": {},
     "output_type": "execute_result"
    }
   ],
   "source": [
    " #Sort the media types based on social performance metrics (e.g., engagement rate, impressions)\n",
    "sorted_media = media_performance.sort_values(by='Engagement_Rate', ascending=False)\n",
    "sorted_media "
   ]
  },
  {
   "cell_type": "code",
   "execution_count": 28,
   "id": "f08f5fd0",
   "metadata": {},
   "outputs": [
    {
     "name": "stdout",
     "output_type": "stream",
     "text": [
      "Best Performing Media Type: Photo\n",
      "['Photo', 'Album', 'Mixed', 'Video', 'Text', 'Carousel', 'Link']\n"
     ]
    }
   ],
   "source": [
    "# Printing the best performing media type\n",
    "print(\"Best Performing Media Type:\", sorted_media.index[0])\n",
    "print(sorted_media.index.tolist())"
   ]
  },
  {
   "cell_type": "code",
   "execution_count": 29,
   "id": "d05ecd69",
   "metadata": {},
   "outputs": [],
   "source": [
    "media_names = sorted_media.index.tolist()\n",
    "engagement_rates = sorted_media['Engagement_Rate']"
   ]
  },
  {
   "cell_type": "code",
   "execution_count": 30,
   "id": "9f248455",
   "metadata": {},
   "outputs": [
    {
     "data": {
      "image/png": "[encoded data removed]",
      "text/plain": [
       "<Figure size 640x480 with 1 Axes>"
      ]
     },
     "metadata": {},
     "output_type": "display_data"
    }
   ],
   "source": [
    "import matplotlib.cm as cm\n",
    "# Normalize the engagement rates between 0 and 1\n",
    "norm = plt.Normalize(min(engagement_rates), max(engagement_rates))\n",
    "colors = cm.Greens(norm(engagement_rates))\n",
    "\n",
    "# Round the engagement rates to one decimal place\n",
    "rounded_rates = np.round(engagement_rates, decimals=1)\n",
    "\n",
    "plt.bar(media_names, engagement_rates,color=colors)\n",
    "# Customize the plot\n",
    "plt.xticks(rotation='vertical')\n",
    "plt.xlabel('Media Names')\n",
    "plt.ylabel('Engagement Rate')\n",
    "plt.title('Media Performance (Engagement Rate)')\n",
    "\n",
    "# Add labels to the bars\n",
    "for i, rate in enumerate(rounded_rates):\n",
    "    plt.text(i, rate, str(rate), ha='center', va='bottom')\n",
    "    \n",
    "plt.show()"
   ]
  },
  {
   "cell_type": "markdown",
   "id": "b03a5440",
   "metadata": {},
   "source": [
    "# We see that the The Media Type - Photo has high engagement rate followed by album and mixed . "
   ]
  },
  {
   "cell_type": "markdown",
   "id": "3c4a14f7",
   "metadata": {},
   "source": [
    "#5. what is best performining campaign"
   ]
  },
  {
   "cell_type": "code",
   "execution_count": 31,
   "id": "7297d979",
   "metadata": {},
   "outputs": [
    {
     "data": {
      "text/html": [
       "<div>\n",
       "<style scoped>\n",
       "    .dataframe tbody tr th:only-of-type {\n",
       "        vertical-align: middle;\n",
       "    }\n",
       "\n",
       "    .dataframe tbody tr th {\n",
       "        vertical-align: top;\n",
       "    }\n",
       "\n",
       "    .dataframe thead th {\n",
       "        text-align: right;\n",
       "    }\n",
       "</style>\n",
       "<table border=\"1\" class=\"dataframe\">\n",
       "  <thead>\n",
       "    <tr style=\"text-align: right;\">\n",
       "      <th></th>\n",
       "      <th>Total_Impressions</th>\n",
       "      <th>Total_Engagements</th>\n",
       "      <th>Engagement_Rate</th>\n",
       "      <th>Day of Week</th>\n",
       "      <th>Hour of Day</th>\n",
       "    </tr>\n",
       "    <tr>\n",
       "      <th>Campaign_Name</th>\n",
       "      <th></th>\n",
       "      <th></th>\n",
       "      <th></th>\n",
       "      <th></th>\n",
       "      <th></th>\n",
       "    </tr>\n",
       "  </thead>\n",
       "  <tbody>\n",
       "    <tr>\n",
       "      <th>Community Engagement</th>\n",
       "      <td>16870.131821</td>\n",
       "      <td>1449.161588</td>\n",
       "      <td>5.765298</td>\n",
       "      <td>3.065202</td>\n",
       "      <td>12.725018</td>\n",
       "    </tr>\n",
       "    <tr>\n",
       "      <th>Evergreen</th>\n",
       "      <td>8151.711656</td>\n",
       "      <td>264.582822</td>\n",
       "      <td>3.510548</td>\n",
       "      <td>2.466258</td>\n",
       "      <td>11.466258</td>\n",
       "    </tr>\n",
       "    <tr>\n",
       "      <th>Evil Exhibited</th>\n",
       "      <td>13672.845238</td>\n",
       "      <td>441.202381</td>\n",
       "      <td>2.866060</td>\n",
       "      <td>3.035714</td>\n",
       "      <td>11.473810</td>\n",
       "    </tr>\n",
       "    <tr>\n",
       "      <th>N/A</th>\n",
       "      <td>4914.536027</td>\n",
       "      <td>688.736027</td>\n",
       "      <td>126.066603</td>\n",
       "      <td>3.037037</td>\n",
       "      <td>12.538721</td>\n",
       "    </tr>\n",
       "  </tbody>\n",
       "</table>\n",
       "</div>"
      ],
      "text/plain": [
       "                       Total_Impressions  Total_Engagements  Engagement_Rate  \\\n",
       "Campaign_Name                                                                  \n",
       "Community Engagement        16870.131821        1449.161588         5.765298   \n",
       "Evergreen                    8151.711656         264.582822         3.510548   \n",
       "Evil Exhibited              13672.845238         441.202381         2.866060   \n",
       "N/A                          4914.536027         688.736027       126.066603   \n",
       "\n",
       "                       Day of Week  Hour of Day  \n",
       "Campaign_Name                                    \n",
       "Community Engagement      3.065202    12.725018  \n",
       "Evergreen                 2.466258    11.466258  \n",
       "Evil Exhibited            3.035714    11.473810  \n",
       "N/A                       3.037037    12.538721  "
      ]
     },
     "execution_count": 31,
     "metadata": {},
     "output_type": "execute_result"
    }
   ],
   "source": [
    "# Group the data by campaign name (Campaign Name column and calculate the average social performance metrics\n",
    "campaign_performance = df.groupby('Campaign_Name').mean()\n",
    "campaign_performance"
   ]
  },
  {
   "cell_type": "code",
   "execution_count": 32,
   "id": "a6facd45",
   "metadata": {},
   "outputs": [
    {
     "data": {
      "text/html": [
       "<div>\n",
       "<style scoped>\n",
       "    .dataframe tbody tr th:only-of-type {\n",
       "        vertical-align: middle;\n",
       "    }\n",
       "\n",
       "    .dataframe tbody tr th {\n",
       "        vertical-align: top;\n",
       "    }\n",
       "\n",
       "    .dataframe thead th {\n",
       "        text-align: right;\n",
       "    }\n",
       "</style>\n",
       "<table border=\"1\" class=\"dataframe\">\n",
       "  <thead>\n",
       "    <tr style=\"text-align: right;\">\n",
       "      <th></th>\n",
       "      <th>Total_Impressions</th>\n",
       "      <th>Total_Engagements</th>\n",
       "      <th>Engagement_Rate</th>\n",
       "      <th>Day of Week</th>\n",
       "      <th>Hour of Day</th>\n",
       "    </tr>\n",
       "    <tr>\n",
       "      <th>Campaign_Name</th>\n",
       "      <th></th>\n",
       "      <th></th>\n",
       "      <th></th>\n",
       "      <th></th>\n",
       "      <th></th>\n",
       "    </tr>\n",
       "  </thead>\n",
       "  <tbody>\n",
       "    <tr>\n",
       "      <th>N/A</th>\n",
       "      <td>4914.536027</td>\n",
       "      <td>688.736027</td>\n",
       "      <td>126.066603</td>\n",
       "      <td>3.037037</td>\n",
       "      <td>12.538721</td>\n",
       "    </tr>\n",
       "    <tr>\n",
       "      <th>Community Engagement</th>\n",
       "      <td>16870.131821</td>\n",
       "      <td>1449.161588</td>\n",
       "      <td>5.765298</td>\n",
       "      <td>3.065202</td>\n",
       "      <td>12.725018</td>\n",
       "    </tr>\n",
       "    <tr>\n",
       "      <th>Evergreen</th>\n",
       "      <td>8151.711656</td>\n",
       "      <td>264.582822</td>\n",
       "      <td>3.510548</td>\n",
       "      <td>2.466258</td>\n",
       "      <td>11.466258</td>\n",
       "    </tr>\n",
       "    <tr>\n",
       "      <th>Evil Exhibited</th>\n",
       "      <td>13672.845238</td>\n",
       "      <td>441.202381</td>\n",
       "      <td>2.866060</td>\n",
       "      <td>3.035714</td>\n",
       "      <td>11.473810</td>\n",
       "    </tr>\n",
       "  </tbody>\n",
       "</table>\n",
       "</div>"
      ],
      "text/plain": [
       "                       Total_Impressions  Total_Engagements  Engagement_Rate  \\\n",
       "Campaign_Name                                                                  \n",
       "N/A                          4914.536027         688.736027       126.066603   \n",
       "Community Engagement        16870.131821        1449.161588         5.765298   \n",
       "Evergreen                    8151.711656         264.582822         3.510548   \n",
       "Evil Exhibited              13672.845238         441.202381         2.866060   \n",
       "\n",
       "                       Day of Week  Hour of Day  \n",
       "Campaign_Name                                    \n",
       "N/A                       3.037037    12.538721  \n",
       "Community Engagement      3.065202    12.725018  \n",
       "Evergreen                 2.466258    11.466258  \n",
       "Evil Exhibited            3.035714    11.473810  "
      ]
     },
     "execution_count": 32,
     "metadata": {},
     "output_type": "execute_result"
    }
   ],
   "source": [
    "# Sort the campaigns based on social performance metrics (e.g., engagement rate, impressions)\n",
    "sorted_campaigns = campaign_performance.sort_values(by='Engagement_Rate', ascending=False)\n",
    "sorted_campaigns "
   ]
  },
  {
   "cell_type": "code",
   "execution_count": 33,
   "id": "1b89da41",
   "metadata": {},
   "outputs": [
    {
     "name": "stdout",
     "output_type": "stream",
     "text": [
      "Best Performing Campaign: N/A \n",
      "['N/A ', 'Community Engagement ', 'Evergreen ', 'Evil Exhibited ']\n"
     ]
    }
   ],
   "source": [
    "# The best performing campaign is the one with the highest engagement rate \n",
    "# Printing the best performing campaign\n",
    "print(\"Best Performing Campaign:\",sorted_campaigns.index[0])\n",
    "print(sorted_campaigns.index.tolist())"
   ]
  },
  {
   "cell_type": "code",
   "execution_count": 34,
   "id": "169c74fb",
   "metadata": {},
   "outputs": [],
   "source": [
    "campaign_names = sorted_campaigns.index.tolist()\n",
    "engagement_rates = sorted_campaigns['Engagement_Rate']"
   ]
  },
  {
   "cell_type": "code",
   "execution_count": 35,
   "id": "6b1cc01c",
   "metadata": {},
   "outputs": [
    {
     "data": {
      "image/png": "[encoded data removed]",
      "text/plain": [
       "<Figure size 640x480 with 1 Axes>"
      ]
     },
     "metadata": {},
     "output_type": "display_data"
    }
   ],
   "source": [
    "# Round the engagement rates to one decimal place\n",
    "rounded_rates = np.round(engagement_rates, decimals=2)\n",
    "\n",
    "plt.bar(campaign_names, engagement_rates)\n",
    "# Customize the plot\n",
    "plt.xticks(rotation='vertical')\n",
    "plt.xlabel('Campaign Names')\n",
    "plt.ylabel('Engagement Rate')\n",
    "plt.title('Campaign Performance (Engagement Rate)')\n",
    "\n",
    "# Add labels to the bars\n",
    "for i, rate in enumerate(rounded_rates):\n",
    "    plt.text(i, rate, str(rate), ha='center', va='bottom')\n",
    "    \n",
    "plt.show()"
   ]
  },
  {
   "cell_type": "markdown",
   "id": "07d4a506",
   "metadata": {},
   "source": [
    "#6. Define out a posting strategy for our social channels based on your discoveries."
   ]
  },
  {
   "cell_type": "markdown",
   "id": "4a8abf91",
   "metadata": {},
   "source": [
    "1.  Allocating  more resources and effort towards Twitter as the value_count is more  and then  to instagram \n",
    "2. Scheduling the  posts on Twitter and instagram to be published around the 12th hour of the day, which has shown higher engagement.\n",
    "3. Give special attention to posting on Fridays, as this day has shown particularly high engagement. Plan and create content that is specifically tailored for Fridays to take advantage of the increased audience interest.\n",
    "4. Focusing on the type of content like images that performed well on the social media's as well as the campaign names and creating similar content that resonates with your audience\n",
    "5. Maintain a consistent posting schedule on Twitter and instagram  including regular posts on Fridays during the high-engagement period. Consistency helps build an engaged audience and increases the chances of your content being seen and shared.\n",
    "6. Continuously monitoring and analyzing the performance of our posts on Twitter, particularly during the 12th hour of the day and on Fridays. Tracking the engagement metrics, such as likes, retweets, comments, and click-through rates, to assess the effectiveness of our strategy and making adjustments if necessary.\n"
   ]
  },
  {
   "cell_type": "markdown",
   "id": "ebcb81b0",
   "metadata": {},
   "source": [
    "#7. What suggestions would you give to the social media team if they want to expand their presence (e.g. if our CSGO youtube channel is doing well should we expand to TikTok)?"
   ]
  },
  {
   "cell_type": "markdown",
   "id": "ae64e583",
   "metadata": {},
   "source": [
    "1. Expanding your social media presence can be a great strategy to reach a wider audience\n",
    "2. Having the demographics and preferences of the current audience for the youtude CSGO  we can analyze and determine the audience  on tiktok aligns with the target demographics then there is a potential to reach a new audience on tiktok is worth considering expansion \n",
    "2. Developing a content strategy tailored to each platform. Adapting our CSGO content to fit the strengths and limitations of TikTok, focusing on short, visually appealing videos that align with TikTok trends and formats. Considering the unique features of TikTok, such as challenges, duets, and effects, to create engaging and shareable content.\n",
    "3. Making behind the scenes videos and uploading them on tiktok\n",
    "4. Keeping  track of the performance metrics and engagement levels on both platforms. Analyzing the response and engagement from the audience on TikTok compared to YouTube. This data will help us to  assess the effectiveness of our expansion efforts and make informed decisions for future strategies.\n",
    "5. Actively engaging with the community on tiktok. Responding to comments, participating in trends, collaborating with other creators, and leverage relevant hashtags. Building a presence and establishing connections with the TikTok community will help grow our following and increase brand awareness."
   ]
  }
 ],
 "metadata": {
  "kernelspec": {
   "display_name": "Python 3 (ipykernel)",
   "language": "python",
   "name": "python3"
  },
  "language_info": {
   "codemirror_mode": {
    "name": "ipython",
    "version": 3
   },
   "file_extension": ".py",
   "mimetype": "text/x-python",
   "name": "python",
   "nbconvert_exporter": "python",
   "pygments_lexer": "ipython3",
   "version": "3.9.13"
  }
 },
 "nbformat": 4,
 "nbformat_minor": 5
}
